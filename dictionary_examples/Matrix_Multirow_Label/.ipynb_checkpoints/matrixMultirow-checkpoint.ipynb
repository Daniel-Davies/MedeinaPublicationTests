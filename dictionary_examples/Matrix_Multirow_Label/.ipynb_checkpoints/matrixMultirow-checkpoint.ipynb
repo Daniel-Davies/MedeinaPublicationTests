{
 "cells": [
  {
   "cell_type": "code",
   "execution_count": 1,
   "metadata": {},
   "outputs": [],
   "source": [
    "## LOAD INTERNAL MEDEINA FILE FORMAT CONVERTER\n",
    "from Medeina.dataFormatReaders import *"
   ]
  },
  {
   "cell_type": "code",
   "execution_count": 2,
   "metadata": {},
   "outputs": [],
   "source": [
    "## DECLARE PARSING DICTIONARY\n",
    "dct = {}\n",
    "dct['encoding'] = {}\n",
    "dct['encoding']['interactionFormat'] = 'matrix'\n",
    "dct['encoding']['headingCorner'] = '(1,1)'\n",
    "dct['encoding']['dataCorner'] = '(4,4)'\n",
    "dct['encoding']['nameDepth'] = 2\n",
    "dct['encoding']['path'] = \"C:/Users/davie/Desktop/results/dictionary_examples/Matrix_Multirow_Label/leatherFinland.xls\""
   ]
  },
  {
   "cell_type": "markdown",
   "metadata": {},
   "source": [
    "# Reference\n",
    "\n",
    "This sample table comes from Simon R Leather's Finland Prunus Feeding Macrolepidoptera data, which can be found [here](https://iwdb.nceas.ucsb.edu/resources.html). We take only the first 5x6 grid.\n",
    "\n",
    "Full Citation:\n",
    "\n",
    "Leather, Simon R. “Feeding Specialisation and Host Distribution of British and Finnish Prunus Feeding Macrolepidoptera.” Oikos, vol. 60, no. 1, 1991, pp. 40–48. JSTOR"
   ]
  },
  {
   "cell_type": "markdown",
   "metadata": {},
   "source": [
    "![title](selection.PNG)"
   ]
  },
  {
   "cell_type": "markdown",
   "metadata": {},
   "source": [
    "# How it works\n",
    "\n",
    "If your data comes as a matrix whereby names are spread over multiple text-boxes, then use the dictionary above. It can be interpreted as follows:\n",
    "\n",
    "- (Required) \"headingCorner\" is the cell where the FIRST column and row headers instersect, which above is the very top left corner cell- or co-ordinate (1,1). You must also supply a \"nameDepth\" which indicates across how many cells the names are spread. In this case, the convention dictating this file spreads names over two cells (genus-species).\n",
    "- (Required) The \"dataCorner\"represents the top-left corner of where the data starts, which in this case, is where Abraxas Grossulariata meets Prunus Domestica. This is co-ordinate (4,4)."
   ]
  },
  {
   "cell_type": "code",
   "execution_count": 3,
   "metadata": {},
   "outputs": [
    {
     "data": {
      "text/plain": [
       "[('Abraxas  grossulariata', 'Prunus padus', {}),\n",
       " ('Acronicta psi', 'Prunus domestica', {}),\n",
       " ('Acronicta psi', 'Prunus cerasus', {}),\n",
       " ('Acronicta psi', 'Prunus avium', {}),\n",
       " ('Acronicta psi', 'Prunus padus', {}),\n",
       " ('Acronicta strigosa', 'Prunus padus', {}),\n",
       " ('Agriopis aurantiaria', 'Prunus padus', {}),\n",
       " ('Allophyes oxycanthae', 'Prunus domestica', {}),\n",
       " ('Allophyes oxycanthae', 'Prunus spinosa', {}),\n",
       " ('Allophyes oxycanthae', 'Prunus cerasus', {})]"
      ]
     },
     "execution_count": 3,
     "metadata": {},
     "output_type": "execute_result"
    }
   ],
   "source": [
    "## RESULTING STANDARD FORMAT\n",
    "## (Consumer,Resource,MetaData)\n",
    "parseSpeciesInteractionCells(dct)[0:10]"
   ]
  }
 ],
 "metadata": {
  "kernelspec": {
   "display_name": "Python 3",
   "language": "python",
   "name": "python3"
  },
  "language_info": {
   "codemirror_mode": {
    "name": "ipython",
    "version": 3
   },
   "file_extension": ".py",
   "mimetype": "text/x-python",
   "name": "python",
   "nbconvert_exporter": "python",
   "pygments_lexer": "ipython3",
   "version": "3.6.10"
  }
 },
 "nbformat": 4,
 "nbformat_minor": 4
}
