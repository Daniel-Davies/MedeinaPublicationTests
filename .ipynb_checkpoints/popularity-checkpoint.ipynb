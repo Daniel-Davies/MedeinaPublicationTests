{
 "cells": [
  {
   "cell_type": "code",
   "execution_count": 3,
   "metadata": {},
   "outputs": [],
   "source": [
    "from Medeina import Web"
   ]
  },
  {
   "cell_type": "code",
   "execution_count": 4,
   "metadata": {},
   "outputs": [],
   "source": [
    "w = Web()\n",
    "\n",
    "interactionWeb = w.interactions\n",
    "stringNames = {v:k for (k,v) in w.stringNames.items()}\n",
    "links = w.linkMetas"
   ]
  },
  {
   "cell_type": "markdown",
   "metadata": {},
   "source": [
    "# Species in most datasets\n",
    "\n",
    "The below analysis ranks species by the number of datasets that they are present in. "
   ]
  },
  {
   "cell_type": "code",
   "execution_count": 48,
   "metadata": {},
   "outputs": [],
   "source": [
    "from collections import defaultdict\n",
    "involvementsInInteractions = defaultdict(lambda: [set(),0])\n",
    "for predator in interactionWeb:\n",
    "    if isinstance(interactionWeb[predator],int): continue\n",
    "    for prey in interactionWeb[predator]:\n",
    "        for interaction in interactionWeb[predator][prey]:\n",
    "            if not links[interaction]['dId'] in involvementsInInteractions[stringNames[predator]][0]:\n",
    "                involvementsInInteractions[stringNames[predator]][0].add(links[interaction]['dId'])\n",
    "                involvementsInInteractions[stringNames[predator]][1] += 1\n",
    "            if not links[interaction]['dId'] in involvementsInInteractions[stringNames[prey]][0]:\n",
    "                involvementsInInteractions[stringNames[prey]][0].add(links[interaction]['dId'])\n",
    "                involvementsInInteractions[stringNames[prey]][1] += 1"
   ]
  },
  {
   "cell_type": "code",
   "execution_count": 46,
   "metadata": {},
   "outputs": [
    {
     "data": {
      "text/plain": [
       "[('pteromalus dolichurus', 240),\n",
       " ('catinella oklahomarum', 218),\n",
       " ('scambus vesicarius', 210),\n",
       " ('chrysocharis elongata', 175),\n",
       " ('eurytoma aciculata', 174),\n",
       " ('archarius crux', 145),\n",
       " ('lasioglossum incompletum', 132),\n",
       " ('halictus tripartitus', 128),\n",
       " ('salix purpurea', 127),\n",
       " ('convolvulus arvensis', 121),\n",
       " ('eulonchetron torymoides', 118),\n",
       " ('salix cinerea', 109),\n",
       " ('toxomerus marginatus', 108),\n",
       " ('perilitus deceptor', 104),\n",
       " ('halictus ligatus', 100),\n",
       " ('salix myrsinifolia', 95),\n",
       " ('apis mellifera', 91),\n",
       " ('salix caprea', 87),\n",
       " ('hydriomena ruberata', 86),\n",
       " ('archanara algae', 78)]"
      ]
     },
     "execution_count": 46,
     "metadata": {},
     "output_type": "execute_result"
    }
   ],
   "source": [
    "[(x[0],x[1][1]) for x in sorted(list(involvementsInInteractions.items()),key=lambda x: x[1][1],reverse=True)][0:20]"
   ]
  },
  {
   "cell_type": "markdown",
   "metadata": {},
   "source": [
    "# Conclusion: nearly all species are insects! (with many plants also)"
   ]
  },
  {
   "cell_type": "markdown",
   "metadata": {},
   "source": [
    "# Who isn't present? Let's try big cats"
   ]
  },
  {
   "cell_type": "code",
   "execution_count": 7,
   "metadata": {},
   "outputs": [
    {
     "name": "stdout",
     "output_type": "stream",
     "text": [
      "puma concolor\n",
      "uncia uncia\n",
      "lestes spumarius\n",
      "philaenus spumarius\n"
     ]
    }
   ],
   "source": [
    "for item in stringNames.values():\n",
    "    if 'panthera' in item:\n",
    "        print(item)\n",
    "    elif 'acinonyx' in item:\n",
    "        print(item)\n",
    "    elif 'puma' in item:\n",
    "        print(item)\n",
    "    elif 'uncia' in item:\n",
    "        print(item)\n",
    "    elif 'caracal' in item:\n",
    "        print(item)\n",
    "#     break"
   ]
  },
  {
   "cell_type": "markdown",
   "metadata": {},
   "source": [
    "# So cougars and snow leopards are present, but not tigers or lions or cheetas etc"
   ]
  },
  {
   "cell_type": "markdown",
   "metadata": {},
   "source": [
    "# Most re-occuring interactions\n",
    "\n",
    "We now rank interactions by popularity of occurence in individual datasets"
   ]
  },
  {
   "cell_type": "code",
   "execution_count": 49,
   "metadata": {},
   "outputs": [],
   "source": [
    "from collections import defaultdict\n",
    "interactionPairs = defaultdict(lambda: [set(),0])\n",
    "for predator in interactionWeb:\n",
    "    if isinstance(interactionWeb[predator],int): continue\n",
    "    for prey in interactionWeb[predator]:\n",
    "        for interaction in interactionWeb[predator][prey]:\n",
    "            if not links[interaction]['dId'] in interactionPairs[stringNames[predator]][0]:\n",
    "                interactionPairs[(stringNames[predator],stringNames[prey])][0].add(links[interaction]['dId'])\n",
    "                interactionPairs[(stringNames[predator],stringNames[prey])][1] += 1\n",
    "            if not links[interaction]['dId'] in interactionPairs[stringNames[prey]][0]:\n",
    "                interactionPairs[(stringNames[predator],stringNames[prey])][0].add(links[interaction]['dId'])\n",
    "                interactionPairs[(stringNames[predator],stringNames[prey])][1] += 1"
   ]
  },
  {
   "cell_type": "code",
   "execution_count": 50,
   "metadata": {},
   "outputs": [
    {
     "data": {
      "text/plain": [
       "[(('convolvulus arvensis', 'lasioglossum incompletum'), 206),\n",
       " (('convolvulus arvensis', 'halictus tripartitus'), 204),\n",
       " (('convolvulus arvensis', 'toxomerus marginatus'), 136),\n",
       " (('phyllocolpa leucapsis', 'salix cinerea'), 134),\n",
       " (('pontania viminalis', 'salix purpurea'), 126),\n",
       " (('phyllocolpa prussica', 'salix cinerea'), 122),\n",
       " (('pontania varia', 'salix myrsinifolia'), 110),\n",
       " (('archarius crux', 'pontania proxima'), 100),\n",
       " (('scambus vesicarius', 'pontania proxima'), 84),\n",
       " (('eurytoma aciculata', 'pontania viminalis'), 82),\n",
       " (('phyllocolpa anglica', 'salix viminalis'), 82),\n",
       " (('helminthotheca echioides', 'lasioglossum incompletum'), 82),\n",
       " (('phyllocolpa leucosticta', 'salix caprea'), 80),\n",
       " (('phyllocolpa polita', 'salix purpurea'), 80),\n",
       " (('pontania hastatae', 'salix hastata'), 80),\n",
       " (('apis mellifera', 'nephrosperma vanhoutteanum'), 76),\n",
       " (('euura hastatae', 'salix hastata'), 76),\n",
       " (('eurytoma aciculata', 'pontania varia'), 74),\n",
       " (('lasioglossum mahense', 'nephrosperma vanhoutteanum'), 72),\n",
       " (('archarius crux', 'pontania viminalis'), 70)]"
      ]
     },
     "execution_count": 50,
     "metadata": {},
     "output_type": "execute_result"
    }
   ],
   "source": [
    "[(x[0],x[1][1]) for x in sorted(list(interactionPairs.items()),key=lambda x: x[1][1],reverse=True)][0:20]"
   ]
  },
  {
   "cell_type": "markdown",
   "metadata": {},
   "source": [
    "# Conclusion: They are all plant-insect!"
   ]
  }
 ],
 "metadata": {
  "kernelspec": {
   "display_name": "Python 3",
   "language": "python",
   "name": "python3"
  },
  "language_info": {
   "codemirror_mode": {
    "name": "ipython",
    "version": 3
   },
   "file_extension": ".py",
   "mimetype": "text/x-python",
   "name": "python",
   "nbconvert_exporter": "python",
   "pygments_lexer": "ipython3",
   "version": "3.6.10"
  }
 },
 "nbformat": 4,
 "nbformat_minor": 4
}
