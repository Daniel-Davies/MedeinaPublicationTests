{
 "cells": [
  {
   "cell_type": "code",
   "execution_count": null,
   "metadata": {},
   "outputs": [],
   "source": [
    "from Medeina import Web\n",
    "resPath = \"C:/Users/davie/Desktop/results/\""
   ]
  },
  {
   "cell_type": "code",
   "execution_count": null,
   "metadata": {},
   "outputs": [],
   "source": [
    "for i in range(10):\n",
    "    processFoldResults(i)"
   ]
  },
  {
   "cell_type": "code",
   "execution_count": null,
   "metadata": {},
   "outputs": [],
   "source": [
    "def processFoldResults(foldId):\n",
    "    with open(resPath+foldId,'rb') as f:\n",
    "        results = pickle.load(f)\n",
    "    \n",
    "    "
   ]
  },
  {
   "cell_type": "code",
   "execution_count": 3,
   "metadata": {},
   "outputs": [
    {
     "data": {
      "text/plain": [
       "[0, 1, 3, 6, 10, 15]"
      ]
     },
     "execution_count": 3,
     "metadata": {},
     "output_type": "execute_result"
    }
   ],
   "source": [
    "from itertools import accumulate\n",
    "r = [0,*list(accumulate([1, 2, 3, 4, 5], lambda x, y: x+y))]\n",
    "r"
   ]
  },
  {
   "cell_type": "code",
   "execution_count": 6,
   "metadata": {},
   "outputs": [
    {
     "data": {
      "text/plain": [
       "[['1'],\n",
       " [],\n",
       " ['2', '3', '4', '5'],\n",
       " ['6'],\n",
       " ['7', '8', '9'],\n",
       " ['10'],\n",
       " ['11', '12'],\n",
       " ['13']]"
      ]
     },
     "execution_count": 6,
     "metadata": {},
     "output_type": "execute_result"
    }
   ],
   "source": [
    "lenKeeper = [1,0,4,1,3,1,2,1]\n",
    "results = ['1','2','3','4','5','6','7','8','9','10','11','12','13']\n",
    "indexMapper = r = [0,*list(accumulate(lenKeeper, lambda x, y: x+y))]\n",
    "splitResults = [results[indexMapper[i]:indexMapper[i+1]] for i in range(len(indexMapper)-1)]\n",
    "splitResults"
   ]
  }
 ],
 "metadata": {
  "kernelspec": {
   "display_name": "Python 3",
   "language": "python",
   "name": "python3"
  },
  "language_info": {
   "codemirror_mode": {
    "name": "ipython",
    "version": 3
   },
   "file_extension": ".py",
   "mimetype": "text/x-python",
   "name": "python",
   "nbconvert_exporter": "python",
   "pygments_lexer": "ipython3",
   "version": "3.6.10"
  }
 },
 "nbformat": 4,
 "nbformat_minor": 4
}
