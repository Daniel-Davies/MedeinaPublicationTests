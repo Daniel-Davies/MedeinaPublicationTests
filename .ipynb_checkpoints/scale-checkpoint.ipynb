{
 "cells": [
  {
   "cell_type": "code",
   "execution_count": 1,
   "metadata": {},
   "outputs": [],
   "source": [
    "# !pip install Medeina\n",
    "from Medeina import Web\n",
    "import pandas as pd"
   ]
  },
  {
   "cell_type": "code",
   "execution_count": 2,
   "metadata": {},
   "outputs": [],
   "source": [
    "w = Web()"
   ]
  },
  {
   "cell_type": "code",
   "execution_count": 4,
   "metadata": {},
   "outputs": [],
   "source": [
    "# Load NBN Dataset\n",
    "eigg = pd.read_csv(\"...\")"
   ]
  },
  {
   "cell_type": "code",
   "execution_count": 5,
   "metadata": {},
   "outputs": [],
   "source": [
    "# Pick out names only\n",
    "eigg.dropna(subset=['Scientific name'])\n",
    "speciesOnly = eigg['Scientific name'].values.tolist()\n",
    "speciesOnly = list(filter(lambda x: isinstance(x,str),speciesOnly))"
   ]
  },
  {
   "cell_type": "markdown",
   "metadata": {},
   "source": [
    "# Apply Medeina on exact matching"
   ]
  },
  {
   "cell_type": "code",
   "execution_count": 5,
   "metadata": {},
   "outputs": [],
   "source": [
    "import time\n",
    "start_time = time.time()\n",
    "resultExact = w.apply(list(set(speciesOnly)))\n",
    "doneExact = resultExact.done \n",
    "notDoneExact = resultExact.notDone \n",
    "translatedTimeExact = resultExact.endTime\n",
    "finalTimeExact = time.time() - start_time\n",
    "completeExact = (resultExact.to_list_with_original(),finalTimeExact,translatedTimeExact,doneExact,notDoneExact)"
   ]
  },
  {
   "cell_type": "markdown",
   "metadata": {},
   "source": [
    "# Apply Medeina on genus matching"
   ]
  },
  {
   "cell_type": "code",
   "execution_count": 6,
   "metadata": {},
   "outputs": [],
   "source": [
    "import time\n",
    "start_time = time.time()\n",
    "resultGenus = w.apply(list(set(speciesOnly)),'genus')\n",
    "doneGenus = resultGenus.done \n",
    "notDoneGenus = resultGenus.notDone \n",
    "translatedTimeGenus = resultGenus.endTime\n",
    "finalTimeGenus = time.time() - start_time\n",
    "completeGenus = (resultGenus.to_list_with_original(),finalTimeGenus,translatedTimeGenus,doneGenus,notDoneGenus)"
   ]
  },
  {
   "cell_type": "markdown",
   "metadata": {},
   "source": [
    "# Apply Medeina on family matching"
   ]
  },
  {
   "cell_type": "code",
   "execution_count": 7,
   "metadata": {},
   "outputs": [],
   "source": [
    "import time\n",
    "start_time = time.time()\n",
    "resultFamily = w.apply(list(set(speciesOnly)),'family')\n",
    "doneFamily = resultFamily.done \n",
    "notDoneFamily = resultFamily.notDone \n",
    "translatedTimeFamily = resultFamily.endTime\n",
    "finalTimeFamily = time.time() - start_time\n",
    "completeFamily = (resultFamily.to_list_with_original(),finalTimeFamily,translatedTimeFamily,doneFamily,notDoneFamily)"
   ]
  },
  {
   "cell_type": "markdown",
   "metadata": {},
   "source": [
    "### Get percentage of species involved and raw species involved "
   ]
  },
  {
   "cell_type": "code",
   "execution_count": 16,
   "metadata": {},
   "outputs": [
    {
     "data": {
      "text/plain": [
       "(0.1463112213267204, 472)"
      ]
     },
     "execution_count": 16,
     "metadata": {},
     "output_type": "execute_result"
    }
   ],
   "source": [
    "import itertools\n",
    "originals = list(map(lambda x: x[1],resultExact.to_list_with_original()))\n",
    "unique = list(itertools.chain(*originals))\n",
    "(len(set(unique))) / (len(set(speciesOnly))),len(set(unique))"
   ]
  },
  {
   "cell_type": "code",
   "execution_count": 15,
   "metadata": {},
   "outputs": [
    {
     "data": {
      "text/plain": [
       "(0.333230006199628, 1075)"
      ]
     },
     "execution_count": 15,
     "metadata": {},
     "output_type": "execute_result"
    }
   ],
   "source": [
    "import itertools\n",
    "originals = list(map(lambda x: x[1],resultGenus.to_list_with_original()))\n",
    "unique = list(itertools.chain(*originals))\n",
    "(len(set(unique))) / (len(set(speciesOnly))),len(set(unique))"
   ]
  },
  {
   "cell_type": "code",
   "execution_count": 14,
   "metadata": {},
   "outputs": [
    {
     "data": {
      "text/plain": [
       "(0.5799752014879107, 1871)"
      ]
     },
     "execution_count": 14,
     "metadata": {},
     "output_type": "execute_result"
    }
   ],
   "source": [
    "import itertools\n",
    "originals = list(map(lambda x: x[1],resultFamily.to_list_with_original()))\n",
    "unique = list(itertools.chain(*originals))\n",
    "(len(set(unique))) / (len(set(speciesOnly))), len(set(unique))"
   ]
  },
  {
   "cell_type": "markdown",
   "metadata": {},
   "source": [
    "# Audit the links for export to big network viewing software"
   ]
  },
  {
   "cell_type": "code",
   "execution_count": 8,
   "metadata": {},
   "outputs": [],
   "source": [
    "resultExact.audit(\"...\")"
   ]
  },
  {
   "cell_type": "code",
   "execution_count": 9,
   "metadata": {},
   "outputs": [],
   "source": [
    "resultGenus.audit(\"...\")"
   ]
  },
  {
   "cell_type": "code",
   "execution_count": 10,
   "metadata": {},
   "outputs": [],
   "source": [
    "resultFamily.audit(\"...\")"
   ]
  }
 ],
 "metadata": {
  "kernelspec": {
   "display_name": "Python 3",
   "language": "python",
   "name": "python3"
  },
  "language_info": {
   "codemirror_mode": {
    "name": "ipython",
    "version": 3
   },
   "file_extension": ".py",
   "mimetype": "text/x-python",
   "name": "python",
   "nbconvert_exporter": "python",
   "pygments_lexer": "ipython3",
   "version": "3.6.10"
  }
 },
 "nbformat": 4,
 "nbformat_minor": 4
}
