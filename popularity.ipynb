{
 "cells": [
  {
   "cell_type": "code",
   "execution_count": 3,
   "metadata": {},
   "outputs": [],
   "source": [
    "from Medeina import Web"
   ]
  },
  {
   "cell_type": "code",
   "execution_count": 4,
   "metadata": {},
   "outputs": [],
   "source": [
    "w = Web()\n",
    "\n",
    "interactionWeb = w.interactions\n",
    "stringNames = {v:k for (k,v) in w.stringNames.items()}\n",
    "links = w.linkMetas"
   ]
  },
  {
   "cell_type": "markdown",
   "metadata": {},
   "source": [
    "# Species in most datasets\n",
    "\n",
    "The below analysis ranks species by the number of datasets that they are present in. "
   ]
  },
  {
   "cell_type": "code",
   "execution_count": 48,
   "metadata": {},
   "outputs": [],
   "source": [
    "from collections import defaultdict\n",
    "involvementsInInteractions = defaultdict(lambda: [set(),0])\n",
    "for predator in interactionWeb:\n",
    "    if isinstance(interactionWeb[predator],int): continue\n",
    "    for prey in interactionWeb[predator]:\n",
    "        for interaction in interactionWeb[predator][prey]:\n",
    "            if not links[interaction]['dId'] in involvementsInInteractions[stringNames[predator]][0]:\n",
    "                involvementsInInteractions[stringNames[predator]][0].add(links[interaction]['dId'])\n",
    "                involvementsInInteractions[stringNames[predator]][1] += 1\n",
    "            if not links[interaction]['dId'] in involvementsInInteractions[stringNames[prey]][0]:\n",
    "                involvementsInInteractions[stringNames[prey]][0].add(links[interaction]['dId'])\n",
    "                involvementsInInteractions[stringNames[prey]][1] += 1"
   ]
  },
  {
   "cell_type": "code",
   "execution_count": 41,
   "metadata": {},
   "outputs": [
    {
     "data": {
      "text/plain": [
       "[('brachyteles arachnoides',\n",
       "  [{0,\n",
       "    216,\n",
       "    239,\n",
       "    334,\n",
       "    367,\n",
       "    420,\n",
       "    425,\n",
       "    428,\n",
       "    445,\n",
       "    512,\n",
       "    583,\n",
       "    588,\n",
       "    598,\n",
       "    608,\n",
       "    630,\n",
       "    702,\n",
       "    763,\n",
       "    890,\n",
       "    956,\n",
       "    988,\n",
       "    992,\n",
       "    997,\n",
       "    1243,\n",
       "    1249,\n",
       "    1277,\n",
       "    1310,\n",
       "    1333,\n",
       "    1337,\n",
       "    1341,\n",
       "    1544,\n",
       "    1574,\n",
       "    1576,\n",
       "    1731,\n",
       "    1738,\n",
       "    1745,\n",
       "    1747,\n",
       "    1757,\n",
       "    1758,\n",
       "    1762,\n",
       "    1970,\n",
       "    2025,\n",
       "    2069,\n",
       "    2184,\n",
       "    2221,\n",
       "    2315,\n",
       "    2350,\n",
       "    2366,\n",
       "    2388,\n",
       "    2407,\n",
       "    2494,\n",
       "    2497,\n",
       "    2503,\n",
       "    2506,\n",
       "    2534,\n",
       "    2805,\n",
       "    2824,\n",
       "    2859,\n",
       "    2898,\n",
       "    2903,\n",
       "    2904,\n",
       "    2962,\n",
       "    3032,\n",
       "    3104,\n",
       "    3509,\n",
       "    3522,\n",
       "    3530,\n",
       "    3601,\n",
       "    3611,\n",
       "    3627,\n",
       "    3632,\n",
       "    3669,\n",
       "    3675,\n",
       "    3704,\n",
       "    3759,\n",
       "    3796,\n",
       "    3802,\n",
       "    4142,\n",
       "    4144,\n",
       "    4151,\n",
       "    4153,\n",
       "    4161,\n",
       "    4164,\n",
       "    4172,\n",
       "    4176,\n",
       "    4179,\n",
       "    4189,\n",
       "    4218,\n",
       "    4220,\n",
       "    4249,\n",
       "    4264,\n",
       "    4298,\n",
       "    4319,\n",
       "    4342,\n",
       "    4350,\n",
       "    4355,\n",
       "    4394,\n",
       "    4573,\n",
       "    4576,\n",
       "    4580,\n",
       "    4592,\n",
       "    4598,\n",
       "    4663,\n",
       "    4704,\n",
       "    4706,\n",
       "    4717,\n",
       "    4796,\n",
       "    4802,\n",
       "    4834,\n",
       "    4863,\n",
       "    4882,\n",
       "    4992,\n",
       "    4999,\n",
       "    5030,\n",
       "    5129,\n",
       "    5154,\n",
       "    5157,\n",
       "    5159,\n",
       "    5164,\n",
       "    5221,\n",
       "    5269,\n",
       "    5344,\n",
       "    5379,\n",
       "    5424,\n",
       "    5473,\n",
       "    5480,\n",
       "    5525,\n",
       "    5531,\n",
       "    5659,\n",
       "    5661,\n",
       "    5895,\n",
       "    5972,\n",
       "    5981,\n",
       "    6086},\n",
       "   133]),\n",
       " ('abuta selloana', [{0, 1, 2, 3}, 4]),\n",
       " ('alchornea triplinervia',\n",
       "  [{181,\n",
       "    182,\n",
       "    183,\n",
       "    184,\n",
       "    185,\n",
       "    186,\n",
       "    187,\n",
       "    188,\n",
       "    189,\n",
       "    190,\n",
       "    191,\n",
       "    192,\n",
       "    193,\n",
       "    194,\n",
       "    195,\n",
       "    196,\n",
       "    197,\n",
       "    198,\n",
       "    199,\n",
       "    200,\n",
       "    201,\n",
       "    202,\n",
       "    203,\n",
       "    204,\n",
       "    205,\n",
       "    206,\n",
       "    207,\n",
       "    208,\n",
       "    209,\n",
       "    210,\n",
       "    211,\n",
       "    212,\n",
       "    213,\n",
       "    214,\n",
       "    215,\n",
       "    216,\n",
       "    217,\n",
       "    218,\n",
       "    219,\n",
       "    220,\n",
       "    221,\n",
       "    222,\n",
       "    223,\n",
       "    224,\n",
       "    225,\n",
       "    226,\n",
       "    227,\n",
       "    228},\n",
       "   48]),\n",
       " ('allophylus edulis',\n",
       "  [{232,\n",
       "    233,\n",
       "    234,\n",
       "    235,\n",
       "    236,\n",
       "    237,\n",
       "    238,\n",
       "    239,\n",
       "    240,\n",
       "    241,\n",
       "    242,\n",
       "    243,\n",
       "    244,\n",
       "    245,\n",
       "    246,\n",
       "    247,\n",
       "    248,\n",
       "    249,\n",
       "    250},\n",
       "   19]),\n",
       " ('annona neosericea',\n",
       "  [{334,\n",
       "    335,\n",
       "    336,\n",
       "    337,\n",
       "    338,\n",
       "    339,\n",
       "    340,\n",
       "    341,\n",
       "    342,\n",
       "    343,\n",
       "    344,\n",
       "    345,\n",
       "    346,\n",
       "    347,\n",
       "    348,\n",
       "    349,\n",
       "    350,\n",
       "    351,\n",
       "    352,\n",
       "    353,\n",
       "    354},\n",
       "   21]),\n",
       " ('anthurium harrisii', [{366, 367, 368}, 3]),\n",
       " ('beilschmiedia emarginata', [{420}, 1]),\n",
       " ('buchenavia kleinii', [{425}, 1]),\n",
       " ('byrsonima crassifolia', [{427, 428}, 2]),\n",
       " ('byrsonima ligustrifolia', [{443, 444, 445}, 3])]"
      ]
     },
     "execution_count": 41,
     "metadata": {},
     "output_type": "execute_result"
    }
   ],
   "source": [
    "list(involvementsInInteractions.items())[0:10]"
   ]
  },
  {
   "cell_type": "code",
   "execution_count": 46,
   "metadata": {},
   "outputs": [
    {
     "data": {
      "text/plain": [
       "[('pteromalus dolichurus', 240),\n",
       " ('catinella oklahomarum', 218),\n",
       " ('scambus vesicarius', 210),\n",
       " ('chrysocharis elongata', 175),\n",
       " ('eurytoma aciculata', 174),\n",
       " ('archarius crux', 145),\n",
       " ('lasioglossum incompletum', 132),\n",
       " ('halictus tripartitus', 128),\n",
       " ('salix purpurea', 127),\n",
       " ('convolvulus arvensis', 121),\n",
       " ('eulonchetron torymoides', 118),\n",
       " ('salix cinerea', 109),\n",
       " ('toxomerus marginatus', 108),\n",
       " ('perilitus deceptor', 104),\n",
       " ('halictus ligatus', 100),\n",
       " ('salix myrsinifolia', 95),\n",
       " ('apis mellifera', 91),\n",
       " ('salix caprea', 87),\n",
       " ('hydriomena ruberata', 86),\n",
       " ('archanara algae', 78)]"
      ]
     },
     "execution_count": 46,
     "metadata": {},
     "output_type": "execute_result"
    }
   ],
   "source": [
    "[(x[0],x[1][1]) for x in sorted(list(involvementsInInteractions.items()),key=lambda x: x[1][1],reverse=True)][0:20]"
   ]
  },
  {
   "cell_type": "markdown",
   "metadata": {},
   "source": [
    "# Conclusion: nearly all species are insects! (with many plants also)"
   ]
  },
  {
   "cell_type": "markdown",
   "metadata": {},
   "source": [
    "# Who isn't present? Let's try big cats"
   ]
  },
  {
   "cell_type": "code",
   "execution_count": 7,
   "metadata": {},
   "outputs": [
    {
     "name": "stdout",
     "output_type": "stream",
     "text": [
      "puma concolor\n",
      "uncia uncia\n",
      "lestes spumarius\n",
      "philaenus spumarius\n"
     ]
    }
   ],
   "source": [
    "for item in stringNames.values():\n",
    "    if 'panthera' in item:\n",
    "        print(item)\n",
    "    elif 'acinonyx' in item:\n",
    "        print(item)\n",
    "    elif 'puma' in item:\n",
    "        print(item)\n",
    "    elif 'uncia' in item:\n",
    "        print(item)\n",
    "    elif 'caracal' in item:\n",
    "        print(item)\n",
    "#     break"
   ]
  },
  {
   "cell_type": "markdown",
   "metadata": {},
   "source": [
    "# So cougars and snow leopards are present, but not tigers or lions or cheetas etc"
   ]
  },
  {
   "cell_type": "markdown",
   "metadata": {},
   "source": [
    "# Most re-occuring interactions\n",
    "\n",
    "We now rank interactions by popularity of occurence in individual datasets"
   ]
  },
  {
   "cell_type": "code",
   "execution_count": 49,
   "metadata": {},
   "outputs": [],
   "source": [
    "from collections import defaultdict\n",
    "interactionPairs = defaultdict(lambda: [set(),0])\n",
    "for predator in interactionWeb:\n",
    "    if isinstance(interactionWeb[predator],int): continue\n",
    "    for prey in interactionWeb[predator]:\n",
    "        for interaction in interactionWeb[predator][prey]:\n",
    "            if not links[interaction]['dId'] in interactionPairs[stringNames[predator]][0]:\n",
    "                interactionPairs[(stringNames[predator],stringNames[prey])][0].add(links[interaction]['dId'])\n",
    "                interactionPairs[(stringNames[predator],stringNames[prey])][1] += 1\n",
    "            if not links[interaction]['dId'] in interactionPairs[stringNames[prey]][0]:\n",
    "                interactionPairs[(stringNames[predator],stringNames[prey])][0].add(links[interaction]['dId'])\n",
    "                interactionPairs[(stringNames[predator],stringNames[prey])][1] += 1"
   ]
  },
  {
   "cell_type": "code",
   "execution_count": 50,
   "metadata": {},
   "outputs": [
    {
     "data": {
      "text/plain": [
       "[(('convolvulus arvensis', 'lasioglossum incompletum'), 206),\n",
       " (('convolvulus arvensis', 'halictus tripartitus'), 204),\n",
       " (('convolvulus arvensis', 'toxomerus marginatus'), 136),\n",
       " (('phyllocolpa leucapsis', 'salix cinerea'), 134),\n",
       " (('pontania viminalis', 'salix purpurea'), 126),\n",
       " (('phyllocolpa prussica', 'salix cinerea'), 122),\n",
       " (('pontania varia', 'salix myrsinifolia'), 110),\n",
       " (('archarius crux', 'pontania proxima'), 100),\n",
       " (('scambus vesicarius', 'pontania proxima'), 84),\n",
       " (('eurytoma aciculata', 'pontania viminalis'), 82),\n",
       " (('phyllocolpa anglica', 'salix viminalis'), 82),\n",
       " (('helminthotheca echioides', 'lasioglossum incompletum'), 82),\n",
       " (('phyllocolpa leucosticta', 'salix caprea'), 80),\n",
       " (('phyllocolpa polita', 'salix purpurea'), 80),\n",
       " (('pontania hastatae', 'salix hastata'), 80),\n",
       " (('apis mellifera', 'nephrosperma vanhoutteanum'), 76),\n",
       " (('euura hastatae', 'salix hastata'), 76),\n",
       " (('eurytoma aciculata', 'pontania varia'), 74),\n",
       " (('lasioglossum mahense', 'nephrosperma vanhoutteanum'), 72),\n",
       " (('archarius crux', 'pontania viminalis'), 70)]"
      ]
     },
     "execution_count": 50,
     "metadata": {},
     "output_type": "execute_result"
    }
   ],
   "source": [
    "[(x[0],x[1][1]) for x in sorted(list(interactionPairs.items()),key=lambda x: x[1][1],reverse=True)][0:20]"
   ]
  },
  {
   "cell_type": "markdown",
   "metadata": {},
   "source": [
    "# Conclusion: They are all plant-insect!"
   ]
  }
 ],
 "metadata": {
  "kernelspec": {
   "display_name": "Python 3",
   "language": "python",
   "name": "python3"
  },
  "language_info": {
   "codemirror_mode": {
    "name": "ipython",
    "version": 3
   },
   "file_extension": ".py",
   "mimetype": "text/x-python",
   "name": "python",
   "nbconvert_exporter": "python",
   "pygments_lexer": "ipython3",
   "version": "3.6.10"
  }
 },
 "nbformat": 4,
 "nbformat_minor": 4
}
