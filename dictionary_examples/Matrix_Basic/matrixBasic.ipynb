{
 "cells": [
  {
   "cell_type": "code",
   "execution_count": 1,
   "metadata": {},
   "outputs": [],
   "source": [
    "## LOAD INTERNAL MEDEINA FILE FORMAT CONVERTER\n",
    "from Medeina.dataFormatReaders import *"
   ]
  },
  {
   "cell_type": "code",
   "execution_count": 2,
   "metadata": {},
   "outputs": [],
   "source": [
    "## DECLARE PARSING DICTIONARY\n",
    "dct = {}\n",
    "dct['encoding'] = {}\n",
    "dct['encoding']['interactionFormat'] = 'matrix'\n",
    "dct['encoding']['headingCorner'] = '(1,1)'\n",
    "dct['encoding']['dataCorner'] = '(2,2)'\n",
    "dct['encoding']['nameDepth'] = 1\n",
    "dct['encoding']['path'] = \"<path>\""
   ]
  },
  {
   "cell_type": "markdown",
   "metadata": {},
   "source": [
    "# Reference\n",
    "\n",
    "This sample table comes from the \"Feeding environment and other traits shape species' roles in marine food webs\" publication, which can be found [here](https://datadryad.org/stash/dataset/doi:10.5061/dryad.1mv20r6). We take only a small 5x6 grid from the \"ythan_spnames\" dataset.\n",
    "\n",
    "Full citation:\n",
    "\n",
    "Cirtwill, Alyssa R.; Eklöf, Anna (2018), Data from: Feeding environment and other traits shape species' roles in marine food webs, Dryad, Dataset, https://doi.org/10.5061/dryad.1mv20r6"
   ]
  },
  {
   "cell_type": "markdown",
   "metadata": {},
   "source": [
    "![title](selection.PNG)"
   ]
  },
  {
   "cell_type": "markdown",
   "metadata": {},
   "source": [
    "# How it works\n",
    "\n",
    "If your data comes as a matrix, then use the dictionary above. It can be interpreted as follows:\n",
    "\n",
    "- (Required) \"headingCorner\" is the cell where the column and row headers instersect, which above is the very top left corner cell- or co-ordinate (1,1). You must also supply a \"nameDepth\" which indicates across how many cells the names are spread. Above this is one, but other examples of greater name-depths are provided in this directory.\n",
    "- (Required) The \"dataCorner\"represents the top-left corner of where the data starts, which in this case, is where Lutra Lutra meets Lutra Lutra. This is co-ordinate (2,2)."
   ]
  },
  {
   "cell_type": "code",
   "execution_count": 3,
   "metadata": {},
   "outputs": [
    {
     "data": {
      "text/plain": [
       "[('Somateria mollissima', 'Larus aragentatus', {}),\n",
       " ('Sprattus sprattus', 'Larus canus', {}),\n",
       " ('Sprattus sprattus', 'Larus ridibundus', {}),\n",
       " ('Sprattus sprattus', 'Larus aragentatus', {}),\n",
       " ('Sprattus sprattus', 'Larus marinus', {}),\n",
       " ('Sprattus sprattus', 'Sterna Sandvicensis', {}),\n",
       " ('Sprattus sprattus', 'Sterna hirundo', {}),\n",
       " ('Sprattus sprattus', 'Sterna paradisea', {}),\n",
       " ('Sprattus sprattus', 'Platichthys flesus', {}),\n",
       " ('Clupea harengus', 'Larus canus', {})]"
      ]
     },
     "execution_count": 3,
     "metadata": {},
     "output_type": "execute_result"
    }
   ],
   "source": [
    "## RESULTING STANDARD FORMAT\n",
    "## (Consumer,Resource,MetaData)\n",
    "parseSpeciesInteractionCells(dct)[0:10]"
   ]
  }
 ],
 "metadata": {
  "kernelspec": {
   "display_name": "Python 3",
   "language": "python",
   "name": "python3"
  },
  "language_info": {
   "codemirror_mode": {
    "name": "ipython",
    "version": 3
   },
   "file_extension": ".py",
   "mimetype": "text/x-python",
   "name": "python",
   "nbconvert_exporter": "python",
   "pygments_lexer": "ipython3",
   "version": "3.6.10"
  }
 },
 "nbformat": 4,
 "nbformat_minor": 4
}
