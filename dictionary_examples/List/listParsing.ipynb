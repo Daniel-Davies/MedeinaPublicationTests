{
 "cells": [
  {
   "cell_type": "code",
   "execution_count": 1,
   "metadata": {},
   "outputs": [],
   "source": [
    "## LOAD INTERNAL MEDEINA FILE FORMAT CONVERTER\n",
    "from Medeina.dataFormatReaders import *"
   ]
  },
  {
   "cell_type": "code",
   "execution_count": 2,
   "metadata": {},
   "outputs": [],
   "source": [
    "## DECLARE PARSING DICTIONARY\n",
    "dct = {}\n",
    "dct['interactionType'] = \"predation\"\n",
    "\n",
    "dct['encoding'] = {}\n",
    "dct['encoding']['interactionFormat'] = 'pair'\n",
    "dct['encoding']['evidencedBy'] = 'link.citation'\n",
    "dct['encoding']['interactionType'] = 'interaction.type'\n",
    "dct['encoding']['location'] = 'study.site'\n",
    "dct['encoding']['head'] = 'con.taxonomy'\n",
    "dct['encoding']['tail'] = 'res.taxonomy'\n",
    "dct['encoding']['path'] = \"C:/Users/davie/Desktop/results/dictionary_examples/List/GlobAL.csv\"\n"
   ]
  },
  {
   "cell_type": "markdown",
   "metadata": {},
   "source": [
    "# Reference\n",
    "\n",
    "This sample table comes from the GlobAL dataset, which can be found [here](https://idata.idiv.de/ddm/Data/ShowData/283?version=3). We take the first 10 rows and some sample columns only."
   ]
  },
  {
   "cell_type": "markdown",
   "metadata": {},
   "source": [
    "![title](selection.PNG)"
   ]
  },
  {
   "cell_type": "markdown",
   "metadata": {},
   "source": [
    "# How it works\n",
    "\n",
    "If your data comes as a list, then use the dictionary above. It can be interpreted as follows:\n",
    "\n",
    "- (Required) \"Head\" is the acting species\n",
    "- (Required) \"Tail\" is the species acted upon\n",
    "- All other meta data can then be seen as selecting particular columns. Metadata is appended onto the interaction, which can then be queried for by the Web object"
   ]
  },
  {
   "cell_type": "code",
   "execution_count": 3,
   "metadata": {},
   "outputs": [
    {
     "data": {
      "text/plain": [
       "[('Vulpes vulpes',\n",
       "  'Tipulidae',\n",
       "  {'interactionType': 'predacious',\n",
       "   'evidencedBy': 'Cattin Blandenier (2004)',\n",
       "   'location': 'Grand Caricaie'}),\n",
       " ('Emberiza schoeniclus',\n",
       "  'Coleoptera',\n",
       "  {'interactionType': 'predacious',\n",
       "   'evidencedBy': 'Cattin Blandenier (2004)',\n",
       "   'location': 'Grand Caricaie'}),\n",
       " ('Emberiza schoeniclus',\n",
       "  'Araneidae',\n",
       "  {'interactionType': 'predacious',\n",
       "   'evidencedBy': 'Cattin Blandenier (2004)',\n",
       "   'location': 'Grand Caricaie'}),\n",
       " ('Vulpes vulpes',\n",
       "  'Tettigoniidae',\n",
       "  {'interactionType': 'predacious',\n",
       "   'evidencedBy': 'Cattin Blandenier (2004)',\n",
       "   'location': 'Grand Caricaie'}),\n",
       " ('Emberiza schoeniclus',\n",
       "  'Chironomidae',\n",
       "  {'interactionType': 'predacious',\n",
       "   'evidencedBy': 'Cattin Blandenier (2004)',\n",
       "   'location': 'Grand Caricaie'}),\n",
       " ('Vulpes vulpes',\n",
       "  'Acrididae',\n",
       "  {'interactionType': 'predacious',\n",
       "   'evidencedBy': 'Cattin Blandenier (2004)',\n",
       "   'location': 'Grand Caricaie'}),\n",
       " ('Emberiza schoeniclus',\n",
       "  'Stilicus rufipes',\n",
       "  {'interactionType': 'predacious',\n",
       "   'evidencedBy': 'Cattin Blandenier (2004)',\n",
       "   'location': 'Grand Caricaie'}),\n",
       " ('Emberiza schoeniclus',\n",
       "  'Trogophloeus corticinus',\n",
       "  {'interactionType': 'predacious',\n",
       "   'evidencedBy': 'Cattin Blandenier (2004)',\n",
       "   'location': 'Grand Caricaie'}),\n",
       " ('Emberiza schoeniclus',\n",
       "  'Lepidoptera',\n",
       "  {'interactionType': 'predacious',\n",
       "   'evidencedBy': 'Cattin Blandenier (2004)',\n",
       "   'location': 'Grand Caricaie'}),\n",
       " ('Emberiza schoeniclus',\n",
       "  'Lycosidae',\n",
       "  {'interactionType': 'predacious',\n",
       "   'evidencedBy': 'Cattin Blandenier (2004)',\n",
       "   'location': 'Grand Caricaie'})]"
      ]
     },
     "execution_count": 3,
     "metadata": {},
     "output_type": "execute_result"
    }
   ],
   "source": [
    "## RESULTING STANDARD FORMAT\n",
    "## (Consumer,Resource,MetaData)\n",
    "## Gener\n",
    "parseSpeciesInteractionCells(dct)[0:10]"
   ]
  }
 ],
 "metadata": {
  "kernelspec": {
   "display_name": "Python 3",
   "language": "python",
   "name": "python3"
  },
  "language_info": {
   "codemirror_mode": {
    "name": "ipython",
    "version": 3
   },
   "file_extension": ".py",
   "mimetype": "text/x-python",
   "name": "python",
   "nbconvert_exporter": "python",
   "pygments_lexer": "ipython3",
   "version": "3.6.10"
  }
 },
 "nbformat": 4,
 "nbformat_minor": 4
}
