{
 "cells": [
  {
   "cell_type": "code",
   "execution_count": 1,
   "metadata": {},
   "outputs": [],
   "source": [
    "## LOAD INTERNAL MEDEINA FILE FORMAT CONVERTER\n",
    "from Medeina.dataFormatReaders import *"
   ]
  },
  {
   "cell_type": "code",
   "execution_count": 2,
   "metadata": {},
   "outputs": [],
   "source": [
    "## DECLARE PARSING DICTIONARY\n",
    "dct = {}\n",
    "dct['encoding'] = {}\n",
    "dct['encoding']['interactionFormat'] = 'matrix'\n",
    "dct['encoding']['headingCorner'] = '(3,2)'\n",
    "dct['encoding']['dataCorner'] = '(5,4)'\n",
    "dct['encoding']['nameDepth'] = 2\n",
    "dct['encoding']['path'] = \"<path>\"\n",
    "dct['encoding']['metaData'] = [{'orientation':'col','name':'order','index':2}]"
   ]
  },
  {
   "cell_type": "markdown",
   "metadata": {},
   "source": [
    "# Reference\n",
    "\n",
    "This sample table comes from Jane Memmot's pollinators of Britain dataset, which can be found [here](https://iwdb.nceas.ucsb.edu/resources.html). We take only the first 5x6 grid.\n",
    "\n",
    "Full Citation:\n",
    "\n",
    "Memmott, J. (1999), The structure of a plant‐pollinator food web. Ecology Letters, 2: 276-280. doi:10.1046/j.1461-0248.1999.00087.x"
   ]
  },
  {
   "cell_type": "markdown",
   "metadata": {},
   "source": [
    "![title](selection.PNG)"
   ]
  },
  {
   "cell_type": "markdown",
   "metadata": {},
   "source": [
    "# How it works\n",
    "\n",
    "If your data comes as a matrix whereby names are spread over multiple text-boxes, then use the dictionary above. It can be interpreted as follows:\n",
    "\n",
    "- (Required) \"headingCorner\" is the cell where the FIRST column and row headers instersect, which above is the very top left corner cell- or co-ordinate (1,1). You must also supply a \"nameDepth\" which indicates across how many cells the names are spread. In this case, the convention dictating this file spreads names over two cells (genus-species).\n",
    "- (Required) The \"dataCorner\"represents the top-left corner of where the data starts, which in this case, is where Abraxas Grossulariata meets Prunus Domestica. This is co-ordinate (5,4).\n",
    "- When dealing with meta-data in Matrix formats, a list is provided to a centralised metaData tag in the encoding dictionary. Each item in this list will be a dictionary that selects a particular set of fields in the input grid. Items in each of these dictionaries are as follows:\n",
    "\n",
    "    - Firstly,Meta data can stream across rows or columns. In the above example, an \"order\" meta-data column streams down each columns, and we indicate this with the 'orientation' key, which takes on values either 'row' or 'col'\n",
    "    - A name key then dictates under what name this meta-data item will be stored\n",
    "    - The index is the absolute grid index of where that meta-data is held. In the above example, the \"Order\" meta-data column is the second one on the grid, and hence the index of 2 is assigned."
   ]
  },
  {
   "cell_type": "code",
   "execution_count": 3,
   "metadata": {},
   "outputs": [
    {
     "data": {
      "text/plain": [
       "[('Field scabious', 'Field scabious', {'order': 'COL'}),\n",
       " ('Field scabious', 'Lesser Hawkbit', {'order': 'COL'}),\n",
       " ('Field scabious', 'Red clover', {'order': 'COL'}),\n",
       " ('Field scabious', 'Rough hawkbit', {'order': 'COL'}),\n",
       " ('Rough hawkbit', 'Rough hawkbit', {'order': 'COL'}),\n",
       " ('Common catsear', 'Common catsear', {'order': 'COL'}),\n",
       " ('Common catsear', 'Rough hawkbit', {'order': 'COL'}),\n",
       " ('Rough hawkbit', 'Rough hawkbit', {'order': 'COL'}),\n",
       " ('Rough hawkbit', 'Rough hawkbit', {'order': 'COL'}),\n",
       " ('Common catsear', 'Common catsear', {'order': 'COL'})]"
      ]
     },
     "execution_count": 3,
     "metadata": {},
     "output_type": "execute_result"
    }
   ],
   "source": [
    "## RESULTING STANDARD FORMAT\n",
    "## (Consumer,Resource,MetaData)\n",
    "parseSpeciesInteractionCells(dct)[0:10]"
   ]
  }
 ],
 "metadata": {
  "kernelspec": {
   "display_name": "Python 3",
   "language": "python",
   "name": "python3"
  },
  "language_info": {
   "codemirror_mode": {
    "name": "ipython",
    "version": 3
   },
   "file_extension": ".py",
   "mimetype": "text/x-python",
   "name": "python",
   "nbconvert_exporter": "python",
   "pygments_lexer": "ipython3",
   "version": "3.6.10"
  }
 },
 "nbformat": 4,
 "nbformat_minor": 4
}
