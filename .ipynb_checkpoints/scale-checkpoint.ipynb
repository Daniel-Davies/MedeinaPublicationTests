{
 "cells": [
  {
   "cell_type": "code",
   "execution_count": 1,
   "metadata": {},
   "outputs": [],
   "source": [
    "from Medeina import Web\n",
    "import pandas as pd"
   ]
  },
  {
   "cell_type": "code",
   "execution_count": 2,
   "metadata": {},
   "outputs": [],
   "source": [
    "w = Web()"
   ]
  },
  {
   "cell_type": "code",
   "execution_count": 3,
   "metadata": {},
   "outputs": [],
   "source": [
    "eigg = pd.read_csv(\"C:/Users/davie/Desktop/records-2020-06-14/egg.csv\")"
   ]
  },
  {
   "cell_type": "code",
   "execution_count": 4,
   "metadata": {},
   "outputs": [],
   "source": [
    "eigg.dropna(subset=['Scientific name'])\n",
    "speciesOnly = eigg['Scientific name'].values.tolist()\n",
    "speciesOnly = list(filter(lambda x: isinstance(x,str),speciesOnly))"
   ]
  },
  {
   "cell_type": "code",
   "execution_count": null,
   "metadata": {},
   "outputs": [
    {
     "name": "stdout",
     "output_type": "stream",
     "text": [
      "Beginnging name reformatting\n",
      "Name reformatting complete\n",
      "Indexing records on taxonomy\n",
      "Expanding higher level taxonomic names\n",
      "Trying common name translation...(this may take a while)\n"
     ]
    }
   ],
   "source": [
    "import time\n",
    "start_time = time.time()\n",
    "resultExact = w.apply(list(set(speciesOnly)))\n",
    "doneExact = resultExact.done \n",
    "notDoneExact = resultExact.notDone \n",
    "translatedTimeExact = resultExact.endTime\n",
    "finalTimeExact = time.time() - start_time\n",
    "completeExact = (resultExact.to_list_with_original(),finalTimeExact,translatedTimeExact,doneExact,notDoneExact)"
   ]
  },
  {
   "cell_type": "code",
   "execution_count": null,
   "metadata": {},
   "outputs": [],
   "source": [
    "import time\n",
    "start_time = time.time()\n",
    "resultGenus = w.apply(list(set(speciesOnly)),'genus')\n",
    "doneGenus = resultGenus.done \n",
    "notDoneGenus = resultGenus.notDone \n",
    "translatedTimeGenus = resultGenus.endTime\n",
    "finalTimeGenus = time.time() - start_time\n",
    "completeGenus = (resultGenus.to_list_with_original(),finalTimeGenus,translatedTimeGenus,doneGenus,notDoneGenus)"
   ]
  },
  {
   "cell_type": "code",
   "execution_count": null,
   "metadata": {},
   "outputs": [],
   "source": []
  },
  {
   "cell_type": "code",
   "execution_count": null,
   "metadata": {},
   "outputs": [],
   "source": [
    "result.audit(\"C:/Users/davie/Desktop/results\")"
   ]
  },
  {
   "cell_type": "code",
   "execution_count": null,
   "metadata": {},
   "outputs": [],
   "source": [
    "import pickle\n",
    "with open(\"C:/Users/davie/Desktop/results/Scale/exact\",'wb') as f:\n",
    "    pickle.dump(result,f)"
   ]
  },
  {
   "cell_type": "code",
   "execution_count": null,
   "metadata": {},
   "outputs": [],
   "source": [
    "result = w.apply(list(set(speciesOnly)),'genus')\n",
    "import pickle\n",
    "# with open(\"C:/Users/davie/Desktop/results/Scale/genus\",'wb') as f:\n",
    "#     pickle.dump(result,f)"
   ]
  },
  {
   "cell_type": "code",
   "execution_count": null,
   "metadata": {},
   "outputs": [],
   "source": [
    "result = w.apply(list(set(speciesOnly)),'family')\n",
    "# import pickle\n",
    "# with open(\"C:/Users/davie/Desktop/results/Scale/family\",'wb') as f:\n",
    "#     pickle.dump(result,f)"
   ]
  },
  {
   "cell_type": "code",
   "execution_count": null,
   "metadata": {},
   "outputs": [],
   "source": [
    "result.audit(\"C:/Users/davie/Desktop/results/fam\")"
   ]
  }
 ],
 "metadata": {
  "kernelspec": {
   "display_name": "Python 3",
   "language": "python",
   "name": "python3"
  },
  "language_info": {
   "codemirror_mode": {
    "name": "ipython",
    "version": 3
   },
   "file_extension": ".py",
   "mimetype": "text/x-python",
   "name": "python",
   "nbconvert_exporter": "python",
   "pygments_lexer": "ipython3",
   "version": "3.6.10"
  }
 },
 "nbformat": 4,
 "nbformat_minor": 4
}
